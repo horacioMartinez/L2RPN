{
 "cells": [
  {
   "cell_type": "markdown",
   "metadata": {},
   "source": [
    "<a class=\"anchor\" id=\"nutshell\"></a>\n",
    "<h2 style=\"font-family:'Verdana',sans-serif; color:#1D7874;\">1. Alarm Feature for L2RPN ICAPS Competition</h2>"
   ]
  },
  {
   "cell_type": "markdown",
   "metadata": {},
   "source": [
    "**Why an Alarm Feature?**\n",
    "The main motivation of this competition is developing a robust reinforcement learning agent which a) can operate a power grid avoiding potential black out situations and b) capable of generating alarms to inform the human operators that the stiuation is out of its control. The environment considered is an uncertain indeed and also adversarial attacks are presenr to oppose the agent in achieving its goal.\n",
    "\n",
    "Apart from providing timely corrective actions, it is intended that a good agent can raise an alarm at the appropriate instant. By 'appropriate instant' we mean that it should not be too far or too close from actual game-over (black out) conditions. If the agent generates an alarm close to potential failure, the remaining time may not be sufficient enough for the human operators to take decision and avert the failure. Also, it is not good to send spurious/false alarm to the operators when there is no threat to the grid operations. There may happen some other condition when an agent raises an alarm considering a failure is inevitable, but due to uncertainties of the environments the acutal failure is not occured. Hence, it is always a challenging task to design an agent which simultaneously make corrective actions and raise alarms in an uncertain environment. It is also important to note that the agent has a limited budget for this alarm feature, that means the no. of alarm can be raised is limited in a fixed duration. For more details, please visit Grid2op documentation."
   ]
  },
  {
   "cell_type": "code",
   "execution_count": null,
   "metadata": {},
   "outputs": [],
   "source": [
    "import numpy as np\n",
    "import pandas as pd\n",
    "\n",
    "import grid2op\n",
    "print(grid2op.__version__)\n",
    "\n",
    "# Backend class to use\n",
    "try:\n",
    "    from lightsim2grid.LightSimBackend import LightSimBackend\n",
    "    BACKEND = LightSimBackend\n",
    "except ModuleNotFoundError:\n",
    "    from grid2op.Backend import PandaPowerBackend\n",
    "    BACKEND = PandaPowerBackend\n",
    "\n",
    "from grid2op.Runner import Runner\n",
    "from grid2op.Parameters import Parameters\n",
    "\n",
    "from grid2op.Agent.BaseAgent import BaseAgent\n",
    "import numpy as np\n",
    "import re"
   ]
  },
  {
   "cell_type": "markdown",
   "metadata": {},
   "source": [
    "<a class=\"anchor\" id=\"nutshell\"></a>\n",
    "<h2 style=\"font-family:'Verdana',sans-serif; color:#1D7874;\">2. Use the latest Grid2op version and select the correct environment path.</h2>\n",
    "<p style=\"font-family:'Verdana','sans-serif'; color:#393D3F; text-align:justify; font-size:14px;\">\n",
    "In the new version of Grid2op a new reward class related to alarm feature is provided."
   ]
  },
  {
   "cell_type": "code",
   "execution_count": null,
   "metadata": {},
   "outputs": [],
   "source": [
    "\n",
    "\n",
    "from grid2op.Reward import AlarmReward\n",
    "env = grid2op.make(\"l2rpn_icaps_2021_small\",backend=BACKEND()\n",
    "                   ,reward_class=AlarmReward)\n",
    "\n"
   ]
  },
  {
   "cell_type": "markdown",
   "metadata": {},
   "source": [
    "## Take a quick look at the grid"
   ]
  },
  {
   "cell_type": "code",
   "execution_count": null,
   "metadata": {},
   "outputs": [],
   "source": [
    "from grid2op.PlotGrid import PlotMatplot\n",
    "obs = env.reset()\n",
    "plot_helper = PlotMatplot(env.observation_space, width=1920,height=1080, line_id=False)\n",
    "_ = plot_helper.plot_layout()"
   ]
  },
  {
   "cell_type": "markdown",
   "metadata": {},
   "source": [
    "<p style=\"font-family:'Verdana','sans-serif'; color:#393D3F; text-align:justify; font-size:14px;\">\n",
    "    This powergrid is the same one that the one used for the wcci competitions, except that we modified the names to match their original denomination.\n",
    "    <br>\n",
    "    It is made of 36 substations, with 22 generators and 29 loads and 59 lines.\n",
    "    <br>\n",
    "    It has the particularity to be a \"subgrid\" of the larger 118 grid as shown here :\n",
    "    <img src=\"utils/img/R2_full_grid.png\">\n",
    "    The main consequence is that, when we generated the data, some energy was transfered from this area into the other. This is why you will notice some objects that we modeled as \"loads\" but those are in fact interconnection powerline. You can recognize them because they have \"interco\" in their names (see cell bellow). There are no major difference, for this competition between a regular loads or an interconnection powerline. The only difference is that sometimes interconnection powerlines can have negative values (regular loads always have positive value). We highlighed in thick dark green the interconnection powerline.\n",
    "    <br><br>\n",
    "    In the two cells bellow are printed first all the loads that represent interconnection powerlines (that can be either positive or negative) and then the normal loads (that can only be positive).\n",
    "</p>"
   ]
  },
  {
   "cell_type": "code",
   "execution_count": null,
   "metadata": {},
   "outputs": [],
   "source": [
    "[el for el in env.name_load if re.match(\".*interco.*\", el) is not None]"
   ]
  },
  {
   "cell_type": "code",
   "execution_count": null,
   "metadata": {},
   "outputs": [],
   "source": [
    "[el for el in env.name_load if re.match(\".*load.*\", el) is not None]"
   ]
  },
  {
   "cell_type": "markdown",
   "metadata": {},
   "source": [
    "<a class=\"anchor\" id=\"nutshell\"></a>\n",
    "<h2 style=\"font-family:'Verdana',sans-serif; color:#1D7874;\">3. A DoNothing_Attention_Agent</h2>"
   ]
  },
  {
   "cell_type": "markdown",
   "metadata": {},
   "source": [
    "<p style=\"font-family:'Verdana','sans-serif'; color:#393D3F; text-align:justify; font-size:14px;\">\n",
    "This is an example of DoNothing_Attention_Agent, which can be made using the BaseAgent class of grid2op. The main purpose of this agent is only to genrate alarm depending upon the pre-defined criteria. \n",
    "<p style=\"font-family:'Verdana','sans-serif'; color:#393D3F; text-align:justify; font-size:14px;\">\n",
    "As per this example, the agent will do no action at all time, but can genrate regional/zonal alarm when an adverse condition is met. Hence, the expected output of this agent is a region/zone ID. This means, when the agent finds any trouble to operate the power grid an alarm indicating the region/zone ID \"x\" will be sent to the operator.  "
   ]
  },
  {
   "cell_type": "code",
   "execution_count": null,
   "metadata": {},
   "outputs": [],
   "source": [
    "class DoNothing_Attention_Agent(BaseAgent):\n",
    "    \"\"\"\n",
    "    This is the most basic BaseAgent. It is purely passive, and does absolutely nothing.\n",
    "    As opposed to most reinforcement learning environments, in grid2op, doing nothing is often\n",
    "    the best solution.\n",
    "    \"\"\"\n",
    "\n",
    "    def __init__(self, action_space, alarms_lines_area):\n",
    "        BaseAgent.__init__(self, action_space)\n",
    "        self.alarms_lines_area = alarms_lines_area\n",
    "        self.alarms_area_names = env.alarms_area_names\n",
    "\n",
    "    def act(self, observation, reward, done=False):\n",
    "        \"\"\"\n",
    "        As better explained in the document of :func:`grid2op.BaseAction.update` or\n",
    "        :func:`grid2op.BaseAction.ActionSpace.__call__`.\n",
    "        The preferred way to make an object of type action is to call :func:`grid2op.BaseAction.ActionSpace.__call__`\n",
    "        with the dictionary representing the action. In this case, the action is \"do nothing\" and it is represented by\n",
    "        the empty dictionary.\n",
    "        Parameters\n",
    "        ----------\n",
    "        observation: :class:`grid2op.Observation.Observation`\n",
    "            The current observation of the :class:`grid2op.Environment.Environment`\n",
    "        reward: ``float``\n",
    "            The current reward. This is the reward obtained by the previous action\n",
    "        done: ``bool``\n",
    "            Whether the episode has ended or not. Used to maintain gym compatibility\n",
    "        Returns\n",
    "        -------\n",
    "        res: :class:`grid2op.Action.Action`\n",
    "            The action chosen by the bot / controller / agent.\n",
    "        \"\"\"\n",
    "        res = self.action_space({})\n",
    "        if (np.max(observation.rho) >= 1):\n",
    "            zones_alert = self.get_region_alert(observation)\n",
    "            print(zones_alert)\n",
    "            res = self.action_space({\"raise_alarm\": zones_alert})\n",
    "            print(res)\n",
    "        # print(res)\n",
    "        return res\n",
    "\n",
    "    def get_region_alert(self, observation):\n",
    "        # extract the zones they belong too\n",
    "        zones_these_lines = set()\n",
    "        zone_for_each_lines = self.alarms_lines_area\n",
    "\n",
    "        lines_overloaded = np.where(observation.rho >= 1)[0].tolist()  # obs.rho>0.6\n",
    "        #print(lines_overloaded)\n",
    "        for line_id in lines_overloaded:\n",
    "            line_name = observation.name_line[line_id]\n",
    "            for zone_name in zone_for_each_lines[line_name]:\n",
    "                zones_these_lines.add(zone_name)\n",
    "\n",
    "        zones_these_lines = list(zones_these_lines)\n",
    "        zones_ids_these_lines = [self.alarms_area_names.index(zone) for zone in zones_these_lines]\n",
    "        return zones_ids_these_lines\n"
   ]
  },
  {
   "cell_type": "markdown",
   "metadata": {},
   "source": [
    "<a class=\"anchor\" id=\"nutshell\"></a>\n",
    "<h2 style=\"font-family:'Verdana',sans-serif; color:#1D7874;\"> 4. This is a simple example showing \"how one can define an action of raising alarm\"</h2>"
   ]
  },
  {
   "cell_type": "code",
   "execution_count": null,
   "metadata": {},
   "outputs": [],
   "source": [
    "act_with_alarm = env.action_space({\"raise_alarm\": [2]})\n",
    "print(act_with_alarm)"
   ]
  },
  {
   "cell_type": "markdown",
   "metadata": {},
   "source": [
    "<a class=\"anchor\" id=\"nutshell\"></a>\n",
    "<h2 style=\"font-family:'Verdana',sans-serif; color:#1D7874;\"> 5. This is a test run of Do_Nothing_Attention Agent:</h2>\n",
    "\n",
    "<p style=\"font-family:'Verdana','sans-serif'; color:#393D3F; text-align:justify; font-size:14px;\">\n",
    "The agent is taking no actions but generating alarms for region/zone ID -2 before game over.\n"
   ]
  },
  {
   "cell_type": "code",
   "execution_count": null,
   "metadata": {},
   "outputs": [],
   "source": [
    "agent=DoNothing_Attention_Agent(env.action_space,env.alarms_lines_area)\n",
    "\n",
    "runner = Runner(**env.get_params_for_runner(),\n",
    "                agentClass=None,\n",
    "                agentInstance=agent\n",
    "                )\n",
    "\n",
    "\n",
    "id_chonic=1\n",
    "res_episode = runner.run_one_episode(detailed_output=True,indx=id_chonic,\n",
    "                env_seed=1572415299,path_save='res_alert',\n",
    "                agent_seed=1708891582)\n",
    "\n",
    "name_chron, cum_reward, nb_timestep, episode_data = res_episode\n",
    "\n",
    "print('time_since_last_alarm is: '+str(episode_data.observations[nb_timestep-2].time_since_last_alarm[0]+2))\n",
    "print('Attention reward is: '+str(cum_reward))\n"
   ]
  },
  {
   "cell_type": "markdown",
   "metadata": {},
   "source": [
    "<a class=\"anchor\" id=\"nutshell\"></a>\n",
    "<h2 style=\"font-family:'Verdana',sans-serif; color:#1D7874;\"> 6. One can check the relevant items in the observation related to alarm feature</h2>"
   ]
  },
  {
   "cell_type": "code",
   "execution_count": null,
   "metadata": {},
   "outputs": [],
   "source": [
    "#look at what is in the observation\n",
    "last_alarms = []\n",
    "for obs in episode_data.observations[1:nb_timestep]:\n",
    "    last_alarms.append(obs.time_since_last_alarm[0])\n",
    "alarm_legal = [int(last_alarm == 0) for last_alarm in last_alarms]\n",
    "df_le = pd.DataFrame({'alarm_legal': alarm_legal})\n",
    "alarm_timesteps = np.where(df_le == 1)[0].tolist()\n",
    "\n",
    "print('survival time is: '+str(nb_timestep))\n",
    "print('alarm timesteps in observations are:'+str(alarm_timesteps))"
   ]
  },
  {
   "cell_type": "code",
   "execution_count": null,
   "metadata": {},
   "outputs": [],
   "source": [
    "df_le.plot()"
   ]
  },
  {
   "cell_type": "code",
   "execution_count": null,
   "metadata": {},
   "outputs": [],
   "source": [
    "obs = env.reset() # or any other information\n",
    "\n",
    "obs.is_alarm_illegal\n",
    "obs.time_since_last_alarm\n",
    "obs.last_alarm\n",
    "obs.attention_budget\n",
    "obs.was_alarm_used_after_game_over"
   ]
  },
  {
   "cell_type": "markdown",
   "metadata": {},
   "source": [
    "<a class=\"anchor\" id=\"nutshell\"></a>\n",
    "<h2 style=\"font-family:'Verdana',sans-serif; color:#1D7874;\"> 7. Zones/Regions for ICAPS track</h2>\n",
    "\n",
    "<p style=\"font-family:'Verdana','sans-serif'; color:#393D3F; text-align:justify; font-size:14px;\">\n",
    "In this competition, the same grid of Neurips Track-1 is used, and the grid is divided into 3 zones- 1. East , 2. West and 3. Middle for controlling the network in a more organized way. This also helps to implement the \"trust/alarm\" feature of the agent. It also helps the agent to communicate with the human operators using the zonal/regional ID."
   ]
  },
  {
   "cell_type": "markdown",
   "metadata": {},
   "source": [
    "<img src=\"utils/img/grid_zone_alarms.png\" width=\"800\">"
   ]
  },
  {
   "cell_type": "code",
   "execution_count": null,
   "metadata": {},
   "outputs": [],
   "source": [
    "from grid2op.PlotGrid import PlotMatplot\n",
    "\n",
    "\n",
    "plot_helper = PlotMatplot(env.observation_space, \n",
    "                          sub_radius=14, \n",
    "                          load_radius=10, \n",
    "                          gen_radius=10,\n",
    "                          width=950,\n",
    "                          height=600,\n",
    "                        )"
   ]
  },
  {
   "cell_type": "code",
   "execution_count": null,
   "metadata": {},
   "outputs": [],
   "source": [
    "import json\n",
    "import os\n",
    "\n",
    "zone=\"east\"\n",
    "zone_id=env.alarms_area_names.index(zone)\n",
    "\n",
    "print(\"now ploting lines in zone \"+zone)\n",
    "lines_east=env.alarms_area_lines[zone_id]\n",
    "line_vals=[1 if l in lines_east else 0 for l in env.name_line]\n",
    "plot_helper.plot_info(line_values=line_vals,coloring=\"line\")"
   ]
  },
  {
   "cell_type": "code",
   "execution_count": null,
   "metadata": {},
   "outputs": [],
   "source": []
  }
 ],
 "metadata": {
  "kernelspec": {
   "display_name": "Python 3",
   "language": "python",
   "name": "python3"
  },
  "language_info": {
   "codemirror_mode": {
    "name": "ipython",
    "version": 3
   },
   "file_extension": ".py",
   "mimetype": "text/x-python",
   "name": "python",
   "nbconvert_exporter": "python",
   "pygments_lexer": "ipython3",
   "version": "3.7.5"
  }
 },
 "nbformat": 4,
 "nbformat_minor": 5
}
